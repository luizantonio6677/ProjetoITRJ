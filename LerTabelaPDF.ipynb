{
 "cells": [
  {
   "cell_type": "code",
   "execution_count": 1,
   "id": "7b8a2d8b",
   "metadata": {
    "colab": {
     "base_uri": "https://localhost:8080/"
    },
    "id": "7b8a2d8b",
    "outputId": "6462bd87-9d90-41bb-d93b-1c05dbff626d",
    "scrolled": false
   },
   "outputs": [
    {
     "name": "stdout",
     "output_type": "stream",
     "text": [
      "Looking in indexes: https://pypi.org/simple, https://us-python.pkg.dev/colab-wheels/public/simple/\n",
      "Collecting tabula-py\n",
      "  Downloading tabula_py-2.6.0-py3-none-any.whl (12.0 MB)\n",
      "\u001b[2K     \u001b[90m━━━━━━━━━━━━━━━━━━━━━━━━━━━━━━━━━━━━━━━━\u001b[0m \u001b[32m12.0/12.0 MB\u001b[0m \u001b[31m48.0 MB/s\u001b[0m eta \u001b[36m0:00:00\u001b[0m\n",
      "\u001b[?25hCollecting distro\n",
      "  Downloading distro-1.8.0-py3-none-any.whl (20 kB)\n",
      "Requirement already satisfied: pandas>=0.25.3 in /usr/local/lib/python3.8/dist-packages (from tabula-py) (1.3.5)\n",
      "Requirement already satisfied: numpy in /usr/local/lib/python3.8/dist-packages (from tabula-py) (1.21.6)\n",
      "Requirement already satisfied: python-dateutil>=2.7.3 in /usr/local/lib/python3.8/dist-packages (from pandas>=0.25.3->tabula-py) (2.8.2)\n",
      "Requirement already satisfied: pytz>=2017.3 in /usr/local/lib/python3.8/dist-packages (from pandas>=0.25.3->tabula-py) (2022.7)\n",
      "Requirement already satisfied: six>=1.5 in /usr/local/lib/python3.8/dist-packages (from python-dateutil>=2.7.3->pandas>=0.25.3->tabula-py) (1.15.0)\n",
      "Installing collected packages: distro, tabula-py\n",
      "Successfully installed distro-1.8.0 tabula-py-2.6.0\n"
     ]
    }
   ],
   "source": [
    "pip install tabula-py"
   ]
  },
  {
   "cell_type": "code",
   "execution_count": 2,
   "id": "4ff088f0",
   "metadata": {
    "colab": {
     "base_uri": "https://localhost:8080/"
    },
    "id": "4ff088f0",
    "outputId": "57db6eaa-8171-4fad-edee-f19eea9f66c9"
   },
   "outputs": [
    {
     "name": "stdout",
     "output_type": "stream",
     "text": [
      "Looking in indexes: https://pypi.org/simple, https://us-python.pkg.dev/colab-wheels/public/simple/\n",
      "Requirement already satisfied: openpyxl in /usr/local/lib/python3.8/dist-packages (3.0.10)\n",
      "Requirement already satisfied: et-xmlfile in /usr/local/lib/python3.8/dist-packages (from openpyxl) (1.1.0)\n"
     ]
    }
   ],
   "source": [
    "pip install openpyxl"
   ]
  },
  {
   "cell_type": "code",
   "execution_count": 65,
   "id": "7ecb14a0",
   "metadata": {},
   "outputs": [
    {
     "name": "stdout",
     "output_type": "stream",
     "text": [
      "Defaulting to user installation because normal site-packages is not writeable\n",
      "Requirement already satisfied: qrcode in c:\\users\\mega lite 3.0\\appdata\\roaming\\python\\python39\\site-packages (7.4.2)\n",
      "Requirement already satisfied: colorama in c:\\users\\mega lite 3.0\\appdata\\roaming\\python\\python39\\site-packages (from qrcode) (0.4.6)\n",
      "Requirement already satisfied: typing-extensions in c:\\programdata\\anaconda3\\lib\\site-packages (from qrcode) (4.3.0)\n",
      "Requirement already satisfied: pypng in c:\\users\\mega lite 3.0\\appdata\\roaming\\python\\python39\\site-packages (from qrcode) (0.20220715.0)\n",
      "Note: you may need to restart the kernel to use updated packages.\n"
     ]
    }
   ],
   "source": [
    "pip install qrcode"
   ]
  },
  {
   "cell_type": "code",
   "execution_count": 1,
   "id": "107c796c",
   "metadata": {
    "colab": {
     "base_uri": "https://localhost:8080/",
     "height": 380
    },
    "id": "107c796c",
    "outputId": "b6c0c5cd-12f4-4db5-e30e-4d646a850707",
    "scrolled": false
   },
   "outputs": [
    {
     "name": "stdout",
     "output_type": "stream",
     "text": [
      "1\n"
     ]
    },
    {
     "data": {
      "text/html": [
       "<div>\n",
       "<style scoped>\n",
       "    .dataframe tbody tr th:only-of-type {\n",
       "        vertical-align: middle;\n",
       "    }\n",
       "\n",
       "    .dataframe tbody tr th {\n",
       "        vertical-align: top;\n",
       "    }\n",
       "\n",
       "    .dataframe thead th {\n",
       "        text-align: right;\n",
       "    }\n",
       "</style>\n",
       "<table border=\"1\" class=\"dataframe\">\n",
       "  <thead>\n",
       "    <tr style=\"text-align: right;\">\n",
       "      <th></th>\n",
       "      <th>Item</th>\n",
       "      <th>Qtde</th>\n",
       "    </tr>\n",
       "  </thead>\n",
       "  <tbody>\n",
       "    <tr>\n",
       "      <th>0</th>\n",
       "      <td>TRELIÇA H8 - 7 MT</td>\n",
       "      <td>100,000</td>\n",
       "    </tr>\n",
       "    <tr>\n",
       "      <th>1</th>\n",
       "      <td>TRELIÇA H8 - 9 MT</td>\n",
       "      <td>450,000</td>\n",
       "    </tr>\n",
       "  </tbody>\n",
       "</table>\n",
       "</div>"
      ],
      "text/plain": [
       "                Item     Qtde\n",
       "0  TRELIÇA H8 - 7 MT  100,000\n",
       "1  TRELIÇA H8 - 9 MT  450,000"
      ]
     },
     "metadata": {},
     "output_type": "display_data"
    },
    {
     "name": "stdout",
     "output_type": "stream",
     "text": [
      "TRELIÇA H8 - 7 MT \n",
      "100,000 UND\n",
      "\n",
      "TRELIÇA H8 - 9 MT \n",
      "450,000 UND\n",
      "\n",
      "\n"
     ]
    }
   ],
   "source": [
    "import tabula \n",
    "import pandas as pd \n",
    "from openpyxl import Workbook, load_workbook   \n",
    "from openpyxl.drawing.image import Image\n",
    "from tkinter import filedialog \n",
    "from datetime import date \n",
    "import qrcode\n",
    "\n",
    "\n",
    "data_atual = date.today()\n",
    "\n",
    "caminho_arquivo = filedialog.askopenfilenames()    \n",
    "\n",
    "lista_tabelas = tabula.read_pdf(caminho_arquivo[0], area=[164.135,1.117,601.827,594.383], pages=\"all\", stream=True, guess=True) \n",
    "\n",
    "lista_romaneio = lista_tabelas\n",
    "\n",
    "x = len(lista_tabelas)\n",
    "y = len(lista_romaneio)\n",
    "\n",
    "print(y)   \n",
    "\n",
    "if x == 0: \n",
    "    x = 1\n",
    "    lista_tabelas = tabula.read_pdf(caminho_arquivo[0], area=[164.135,1.117,601.827,594.383], pages=\"all\", stream=True, guess=True) \n",
    "    \n",
    "    lista_romaneio = lista_tabelas\n",
    "    \n",
    "    display(lista_tabelas) \n",
    "\n",
    "\n",
    "for i in range(0, x): \n",
    "    lista_romaneio[i] = lista_tabelas[i]\n",
    "    \n",
    "    \n",
    "for i in range(0, x):  \n",
    "    \n",
    "    \n",
    "    y = len(lista_tabelas[i].index)  \n",
    "    \n",
    "    if pd.isnull(lista_tabelas[i].loc[0, \"Item\"]) == True: \n",
    "    \n",
    "        lista_tabelas[i][\"Item\"] = lista_tabelas[i][\"Unnamed: 0\"] \n",
    "    \n",
    "        if pd.isnull(lista_tabelas[i].loc[y - 1, \"Item\"]) == True: \n",
    "        \n",
    "            display(lista_tabelas[i].loc[0:y-2, [\"Item\", \"Qtde\"]])\n",
    "            lista_tabelas[i] = lista_tabelas[i].loc[0:y-2, [\"Item\", \"Qtde\"]] \n",
    "            lista_romaneio[i] = lista_tabelas[i] \n",
    "        \n",
    "        else:\n",
    "            display(lista_tabelas[i].loc[0: , [\"Item\", \"Qtde\"]]) \n",
    "            lista_tabelas[i] = lista_tabelas[i].loc[0: , [\"Item\", \"Qtde\"]]\n",
    "            lista_romaneio[i] = lista_tabelas[i] \n",
    "    else: \n",
    "        if pd.isnull(lista_tabelas[i].loc[y - 1, \"Item\"]) == True: \n",
    "            display(lista_tabelas[i].loc[0:y-2, [\"Item\", \"Qtde\"]])\n",
    "            lista_tabelas[i] = lista_tabelas[i].loc[0:y-2, [\"Item\", \"Qtde\"]]     \n",
    "            lista_romaneio[i] = lista_tabelas[i]  \n",
    "        \n",
    "        else: \n",
    "            lista_romaneio[i] = lista_tabelas[i]\n",
    "\n",
    "tabela_final = pd.concat(lista_romaneio, ignore_index=True)  \n",
    "\n",
    "# Abre a planilha existente\n",
    "planilha = load_workbook(\"PlanilhaRomaneio.xlsx\") \n",
    "\n",
    "# Abre uma aba ativa do excel\n",
    "aba_ativa = planilha.active \n",
    "\n",
    "#Pega o numero de linhas da tabela\n",
    "x = len(tabela_final.index)\n",
    "\n",
    "\n",
    "#Preenche na célula quantidade \n",
    "inc = 0\n",
    "for i in range(8, 8 + x): \n",
    "    realocar = str(tabela_final.loc[inc, \"Qtde\"]).replace(',','.')\n",
    "    aba_ativa[f\"B{i}\"] = float(realocar)\n",
    "    inc += 1\n",
    "\n",
    "# Preenche o Item \n",
    "inc = 0\n",
    "\n",
    "for i in range(8, 8 + x): \n",
    "    aba_ativa[f\"A{i}\"] = tabela_final.loc[inc, \"Item\"]\n",
    "    inc += 1 \n",
    "\n",
    "aba_ativa[\"C7\"] = data_atual.strftime(\"%d/%m/%Y\")   \n",
    "aba_ativa[\"B4\"] = \"DATA: \" + data_atual.strftime(\"%d/%m/%Y\")  \n",
    "\n",
    "#Implatação QR Code\n",
    "\n",
    "qr = qrcode.QRCode(\n",
    "    version=1,\n",
    "    error_correction=qrcode.constants.ERROR_CORRECT_L,\n",
    "    box_size=7,\n",
    "    border=1\n",
    ")  \n",
    "\n",
    "texto = \"\"\n",
    "\n",
    "for i in range(0, x): \n",
    "    x1 = tabela_final.loc[i, \"Item\"] + \" \" + \"\\n\" + str(tabela_final.loc[i, \"Qtde\"])+ \" UND\" + \"\\n\\n\" \n",
    "    texto += x1  \n",
    "\n",
    "print(texto)\n",
    "    \n",
    "qr.add_data(texto)\n",
    "qr.make(fit=True)\n",
    "\n",
    "imagem = qr.make_image(fill_color='black', back_color='white')\n",
    "\n",
    "imagem.save('qrcodeteste.png')\n"
   ]
  },
  {
   "cell_type": "code",
   "execution_count": 5,
   "id": "d58159f5",
   "metadata": {
    "id": "d58159f5"
   },
   "outputs": [],
   "source": [
    "planilha.save(\"Romaneio.xlsx\")\n"
   ]
  },
  {
   "cell_type": "code",
   "execution_count": null,
   "id": "664304a8",
   "metadata": {
    "id": "664304a8"
   },
   "outputs": [],
   "source": []
  }
 ],
 "metadata": {
  "colab": {
   "provenance": []
  },
  "kernelspec": {
   "display_name": "Python 3",
   "language": "python",
   "name": "python3"
  },
  "language_info": {
   "codemirror_mode": {
    "name": "ipython",
    "version": 3
   },
   "file_extension": ".py",
   "mimetype": "text/x-python",
   "name": "python",
   "nbconvert_exporter": "python",
   "pygments_lexer": "ipython3",
   "version": "3.9.7"
  },
  "vscode": {
   "interpreter": {
    "hash": "c347c8f9a7ef94e4c9e03b4513be7835ed18f45b99a2a817fb579f408b867b16"
   }
  }
 },
 "nbformat": 4,
 "nbformat_minor": 5
}
